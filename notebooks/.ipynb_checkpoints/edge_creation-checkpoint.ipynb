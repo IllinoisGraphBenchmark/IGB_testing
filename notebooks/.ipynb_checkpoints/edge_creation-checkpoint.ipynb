{
 "cells": [
  {
   "cell_type": "code",
   "execution_count": 2,
   "id": "05151269",
   "metadata": {},
   "outputs": [],
   "source": [
    "import time\n",
    "import numpy as np"
   ]
  },
  {
   "cell_type": "code",
   "execution_count": 2,
   "id": "46ac2346",
   "metadata": {},
   "outputs": [
    {
     "name": "stdout",
     "output_type": "stream",
     "text": [
      "Time taken:  309.42930483818054\n"
     ]
    }
   ],
   "source": [
    "start = time.time()\n",
    "count = 0\n",
    "with open('../raw_dataset/PaperReferences.txt') as file:\n",
    "    for line in file:\n",
    "        count += 1\n",
    "print(\"Time taken: \", time.time() - start)"
   ]
  },
  {
   "cell_type": "code",
   "execution_count": 19,
   "id": "f7fd29c5",
   "metadata": {},
   "outputs": [],
   "source": [
    "count = 1900288267"
   ]
  },
  {
   "cell_type": "code",
   "execution_count": null,
   "id": "76b9caea",
   "metadata": {},
   "outputs": [],
   "source": [
    "cites_edge = []\n",
    "start = time.time()\n",
    "count = 0\n",
    "idx = 1\n",
    "# write into file every 400000000 edges\n",
    "with open('../raw_dataset/PaperReferences.txt') as file:\n",
    "    for line in file:\n",
    "        count += 1\n",
    "        if count == 400000000:\n",
    "            #np.save(\"../IllinoisGraphDataset_v1/cites_edge_\" + str(idx) + \".npy\", cites_edge)\n",
    "            idx += 1\n",
    "            cites_edge = []\n",
    "            count = 0\n",
    "        col = line.split('\\t')\n",
    "        cites_edge.append([int(col[0]), int(col[1])])\n",
    "print(\"Time taken: \", time.time() - start)"
   ]
  },
  {
   "cell_type": "code",
   "execution_count": 13,
   "id": "a45ee955",
   "metadata": {},
   "outputs": [],
   "source": [
    "newlist = np.load(\"../IllinoisGraphDataset_v1/cites_edge_4.npy\")"
   ]
  },
  {
   "cell_type": "code",
   "execution_count": 14,
   "id": "6c2763e6",
   "metadata": {},
   "outputs": [
    {
     "data": {
      "text/plain": [
       "400000000"
      ]
     },
     "execution_count": 14,
     "metadata": {},
     "output_type": "execute_result"
    }
   ],
   "source": [
    "len(newlist)"
   ]
  },
  {
   "cell_type": "code",
   "execution_count": 15,
   "id": "75a5c698",
   "metadata": {},
   "outputs": [
    {
     "data": {
      "text/plain": [
       "array([[2482061524, 2106302253],\n",
       "       [2482061524, 2106448168],\n",
       "       [2482061524, 2110477765],\n",
       "       ...,\n",
       "       [2970059545, 2739758870],\n",
       "       [2970059545, 2742869879],\n",
       "       [2970059545, 2756951846]])"
      ]
     },
     "execution_count": 15,
     "metadata": {},
     "output_type": "execute_result"
    }
   ],
   "source": [
    "newlist"
   ]
  },
  {
   "cell_type": "code",
   "execution_count": null,
   "id": "dd645a12",
   "metadata": {},
   "outputs": [],
   "source": []
  }
 ],
 "metadata": {
  "kernelspec": {
   "display_name": "Python 3",
   "language": "python",
   "name": "python3"
  },
  "language_info": {
   "codemirror_mode": {
    "name": "ipython",
    "version": 3
   },
   "file_extension": ".py",
   "mimetype": "text/x-python",
   "name": "python",
   "nbconvert_exporter": "python",
   "pygments_lexer": "ipython3",
   "version": "3.6.8"
  }
 },
 "nbformat": 4,
 "nbformat_minor": 5
}
