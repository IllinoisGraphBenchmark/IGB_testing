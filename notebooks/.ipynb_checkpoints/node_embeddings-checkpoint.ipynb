{
 "cells": [
  {
   "cell_type": "code",
   "execution_count": 1,
   "id": "d9491260",
   "metadata": {},
   "outputs": [
    {
     "name": "stderr",
     "output_type": "stream",
     "text": [
      "/mnt/nvme2/gnndataset/venv_v1/lib64/python3.6/site-packages/tqdm/auto.py:22: TqdmWarning: IProgress not found. Please update jupyter and ipywidgets. See https://ipywidgets.readthedocs.io/en/stable/user_install.html\n",
      "  from .autonotebook import tqdm as notebook_tqdm\n"
     ]
    }
   ],
   "source": [
    "from sentence_transformers import SentenceTransformer\n",
    "import torch\n",
    "from os import listdir\n",
    "from os.path import isfile, join\n",
    "import ast\n",
    "import time\n",
    "import numpy as np\n",
    "from tqdm import tqdm"
   ]
  },
  {
   "cell_type": "code",
   "execution_count": 2,
   "id": "a700989c",
   "metadata": {},
   "outputs": [
    {
     "data": {
      "text/plain": [
       "'cuda:0'"
      ]
     },
     "execution_count": 2,
     "metadata": {},
     "output_type": "execute_result"
    }
   ],
   "source": [
    "BATCH = 1024\n",
    "device = \"cuda:0\" if torch.cuda.is_available() else \"cpu\"\n",
    "device"
   ]
  },
  {
   "cell_type": "code",
   "execution_count": 3,
   "id": "cc1c1e2f",
   "metadata": {},
   "outputs": [],
   "source": [
    "path = '../raw_dataset/nlp/'\n",
    "files = [f for f in listdir(path) if (isfile(join(path, f)) and f.startswith('PaperAbstractsInvertedIndex.txt'))]"
   ]
  },
  {
   "cell_type": "code",
   "execution_count": 4,
   "id": "b55e534d",
   "metadata": {},
   "outputs": [
    {
     "data": {
      "text/plain": [
       "['PaperAbstractsInvertedIndex.txt.2']"
      ]
     },
     "execution_count": 4,
     "metadata": {},
     "output_type": "execute_result"
    }
   ],
   "source": [
    "# Comment out to run for all the files\n",
    "file = [files[0]]\n",
    "file"
   ]
  },
  {
   "cell_type": "code",
   "execution_count": 5,
   "id": "10a2bd95",
   "metadata": {},
   "outputs": [],
   "source": [
    "MODEL = 'sentence-transformers/all-MiniLM-L6-v2'\n",
    "model = SentenceTransformer(MODEL).to(device)"
   ]
  },
  {
   "cell_type": "code",
   "execution_count": 6,
   "id": "02db61f2",
   "metadata": {},
   "outputs": [],
   "source": [
    "def inv_idx_2_txt(data):\n",
    "    abstract_inv = data[\"InvertedIndex\"]\n",
    "    total_len = int(data[\"IndexLength\"])\n",
    "    final_text = [\"\"] * total_len\n",
    "    for key, val in abstract_inv.items():\n",
    "            for idx in val:\n",
    "                final_text[idx] = key\n",
    "    return \" \".join(final_text)"
   ]
  },
  {
   "cell_type": "code",
   "execution_count": null,
   "id": "b4b3d3c9",
   "metadata": {},
   "outputs": [
    {
     "name": "stderr",
     "output_type": "stream",
     "text": [
      "6397884it [2:39:26, 1141.21it/s]"
     ]
    }
   ],
   "source": [
    "start = time.time()\n",
    "paper_emb = {}\n",
    "temp_paper_emb = []\n",
    "paper_ids = []\n",
    "counter = 0\n",
    "index = 0\n",
    "for filename in file: # Change to files if you follow previous comment \n",
    "    with open(join(path, filename)) as infile:\n",
    "        for line in tqdm(infile):\n",
    "            counter += 1\n",
    "            cols = line.split(\"\\t\")\n",
    "            data = ast.literal_eval(cols[1])\n",
    "            paper_ids.append(int(cols[0]))\n",
    "            temp_paper_emb.append([int(cols[0]), inv_idx_2_txt(data)])\n",
    "            if counter % BATCH == 0:\n",
    "                abstract = [data[1] for data in temp_paper_emb]\n",
    "                emb = model.encode(abstract)\n",
    "                for i, p in enumerate(paper_ids):\n",
    "                    paper_emb[p] = emb[i]\n",
    "                paper_ids = []\n",
    "                temp_paper_emb = []\n",
    "            if len(paper_emb) >= 10000000:\n",
    "                index += 1\n",
    "                #np.save(\"../IllinoisGraphDataset_v1/paper_384_emb_\" + str(index) + \".npy\", paper_emb)\n",
    "                paper_emb = {}\n",
    "time.time() - start"
   ]
  },
  {
   "cell_type": "code",
   "execution_count": null,
   "id": "e640e843",
   "metadata": {},
   "outputs": [],
   "source": [
    "len(paper_emb)"
   ]
  },
  {
   "cell_type": "code",
   "execution_count": null,
   "id": "f907c266",
   "metadata": {},
   "outputs": [],
   "source": []
  }
 ],
 "metadata": {
  "kernelspec": {
   "display_name": "Python 3",
   "language": "python",
   "name": "python3"
  },
  "language_info": {
   "codemirror_mode": {
    "name": "ipython",
    "version": 3
   },
   "file_extension": ".py",
   "mimetype": "text/x-python",
   "name": "python",
   "nbconvert_exporter": "python",
   "pygments_lexer": "ipython3",
   "version": "3.6.8"
  }
 },
 "nbformat": 4,
 "nbformat_minor": 5
}
