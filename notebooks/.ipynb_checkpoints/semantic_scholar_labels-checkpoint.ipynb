{
 "cells": [
  {
   "cell_type": "code",
   "execution_count": 1,
   "id": "c3bea967",
   "metadata": {},
   "outputs": [],
   "source": [
    "from os import listdir\n",
    "from os.path import isfile, join\n",
    "import time\n",
    "import json\n",
    "from tqdm import tqdm\n",
    "import numpy as np"
   ]
  },
  {
   "cell_type": "code",
   "execution_count": 2,
   "id": "3fbc79ea",
   "metadata": {},
   "outputs": [],
   "source": [
    "path = '../../../nvme1/semantic_scholar'\n",
    "files = [f for f in listdir(path) if (isfile(join(path, f)) and f.startswith('s2-corpus'))]"
   ]
  },
  {
   "cell_type": "code",
   "execution_count": 3,
   "id": "f2250cf9",
   "metadata": {},
   "outputs": [],
   "source": [
    "temp = ['Art', 'Biology', 'Business', 'Chemistry', 'Computer Science', 'Economics', 'Engineering', 'Environmental Science', 'Geography', 'Geology', 'History', 'Materials Science', 'Mathematics', 'Medicine', 'Philosophy', 'Physics', 'Political Science', 'Psychology', 'Sociology']"
   ]
  },
  {
   "cell_type": "code",
   "execution_count": 4,
   "id": "594f4760",
   "metadata": {},
   "outputs": [],
   "source": [
    "labels = {val: key  for key, val in enumerate(temp)}"
   ]
  },
  {
   "cell_type": "code",
   "execution_count": 5,
   "id": "7b7ad59a",
   "metadata": {},
   "outputs": [
    {
     "name": "stderr",
     "output_type": "stream",
     "text": [
      "100%|██████████| 6000/6000 [1:19:59<00:00,  1.25it/s]  \n"
     ]
    }
   ],
   "source": [
    "fieldsOfStudy = {}\n",
    "for filename in tqdm(files):\n",
    "    with open(join(path,filename)) as infile:\n",
    "        for line in infile:\n",
    "            abstract = json.loads(line)\n",
    "            if abstract['magId'] != '':\n",
    "                mag_id = int(abstract['magId'])\n",
    "                if len(abstract['fieldsOfStudy']) != 0:\n",
    "                    fieldsOfStudy[mag_id] = [labels[abst] for abst in abstract['fieldsOfStudy']]"
   ]
  },
  {
   "cell_type": "code",
   "execution_count": 6,
   "id": "95719262",
   "metadata": {},
   "outputs": [
    {
     "data": {
      "text/plain": [
       "157675969"
      ]
     },
     "execution_count": 6,
     "metadata": {},
     "output_type": "execute_result"
    }
   ],
   "source": [
    "len(fieldsOfStudy)"
   ]
  },
  {
   "cell_type": "code",
   "execution_count": 7,
   "id": "363c939b",
   "metadata": {},
   "outputs": [],
   "source": [
    "#np.save(\"../IllinoisGraphDataset_v1/paper_ss_19_labels.npy\", fieldsOfStudy)"
   ]
  },
  {
   "cell_type": "code",
   "execution_count": null,
   "id": "5070d968",
   "metadata": {},
   "outputs": [],
   "source": []
  }
 ],
 "metadata": {
  "kernelspec": {
   "display_name": "Python 3",
   "language": "python",
   "name": "python3"
  },
  "language_info": {
   "codemirror_mode": {
    "name": "ipython",
    "version": 3
   },
   "file_extension": ".py",
   "mimetype": "text/x-python",
   "name": "python",
   "nbconvert_exporter": "python",
   "pygments_lexer": "ipython3",
   "version": "3.6.8"
  }
 },
 "nbformat": 4,
 "nbformat_minor": 5
}
