{
 "cells": [
  {
   "cell_type": "code",
   "execution_count": 32,
   "id": "c3cd29d7",
   "metadata": {},
   "outputs": [],
   "source": [
    "import pandas as pd\n",
    "import os.path as osp\n",
    "import numpy as np\n",
    "from tqdm import tqdm\n",
    "import torch\n",
    "from torch_geometric.data import Data\n",
    "import torch_geometric.transforms as T\n",
    "from torch_geometric.nn import GCNConv, SAGEConv\n",
    "#from ogb.nodeproppred import PygNodePropPredDataset, Evaluator\n",
    "import torch.nn.functional as F\n",
    "import pandas as pd\n",
    "import seaborn as sns"
   ]
  },
  {
   "cell_type": "code",
   "execution_count": null,
   "id": "2c73d95a",
   "metadata": {},
   "outputs": [],
   "source": [
    "device = f'cuda:0' if torch.cuda.is_available() else 'cpu'\n",
    "device = torch.device(device)\n",
    "device"
   ]
  },
  {
   "cell_type": "code",
   "execution_count": 2,
   "id": "95363892",
   "metadata": {},
   "outputs": [
    {
     "data": {
      "text/plain": [
       "(168319, 384)"
      ]
     },
     "execution_count": 2,
     "metadata": {},
     "output_type": "execute_result"
    }
   ],
   "source": [
    "node_feat = np.load(\"paper_emb.npy\")\n",
    "node_feat.shape"
   ]
  },
  {
   "cell_type": "code",
   "execution_count": 3,
   "id": "7f9f41f3",
   "metadata": {},
   "outputs": [
    {
     "data": {
      "text/plain": [
       "(2, 395888)"
      ]
     },
     "execution_count": 3,
     "metadata": {},
     "output_type": "execute_result"
    }
   ],
   "source": [
    "edge = np.load(\"paper_edges.npy\")\n",
    "edge.shape"
   ]
  },
  {
   "cell_type": "code",
   "execution_count": 5,
   "id": "8d12cdef",
   "metadata": {},
   "outputs": [],
   "source": [
    "num_node_list = np.array([168319])\n",
    "num_edge_list = np.array([395888])"
   ]
  },
  {
   "cell_type": "code",
   "execution_count": 6,
   "id": "825dad13",
   "metadata": {},
   "outputs": [],
   "source": [
    "edge_feat = None"
   ]
  },
  {
   "cell_type": "code",
   "execution_count": 7,
   "id": "b724c34e",
   "metadata": {},
   "outputs": [
    {
     "data": {
      "text/plain": [
       "dtype('float32')"
      ]
     },
     "execution_count": 7,
     "metadata": {},
     "output_type": "execute_result"
    }
   ],
   "source": [
    "node_feat.dtype"
   ]
  },
  {
   "cell_type": "code",
   "execution_count": 8,
   "id": "fa51e817",
   "metadata": {},
   "outputs": [
    {
     "name": "stderr",
     "output_type": "stream",
     "text": [
      "100%|██████████| 1/1 [00:00<00:00, 113.62it/s]\n"
     ]
    }
   ],
   "source": [
    "graph_list = []\n",
    "num_node_accum = 0\n",
    "num_edge_accum = 0\n",
    "for num_node, num_edge in tqdm(zip(num_node_list, num_edge_list), total=len(num_node_list)):\n",
    "    graph = dict()\n",
    "    duplicated_edge = np.repeat(edge[:, num_edge_accum:num_edge_accum+num_edge], 2, axis = 1)\n",
    "    duplicated_edge[0, 1::2] = duplicated_edge[1,0::2]\n",
    "    duplicated_edge[1, 1::2] = duplicated_edge[0,0::2]\n",
    "    graph['edge_index'] = duplicated_edge\n",
    "    graph['edge_feat'] = None\n",
    "    \n",
    "    num_edge_accum += num_edge\n",
    "    \n",
    "    graph['node_feat'] = node_feat[num_node_accum:num_node_accum+num_node]\n",
    "    \n",
    "    graph['num_nodes'] = num_node\n",
    "    num_node_accum += num_node\n",
    "    graph_list.append(graph)"
   ]
  },
  {
   "cell_type": "code",
   "execution_count": 10,
   "id": "70d1fff7",
   "metadata": {},
   "outputs": [
    {
     "name": "stderr",
     "output_type": "stream",
     "text": [
      "100%|██████████| 1/1 [00:00<00:00, 4350.94it/s]\n"
     ]
    }
   ],
   "source": [
    "pyg_graph_list = []\n",
    "for graph in tqdm(graph_list):\n",
    "    g = Data()\n",
    "    g.num_nodes = graph['num_nodes']\n",
    "    g.edge_index = torch.from_numpy(graph['edge_index'])\n",
    "    g.x = torch.from_numpy(graph['node_feat'])\n",
    "    pyg_graph_list.append(g)"
   ]
  },
  {
   "cell_type": "code",
   "execution_count": 11,
   "id": "c43942ea",
   "metadata": {},
   "outputs": [
    {
     "data": {
      "text/plain": [
       "[Data(num_nodes=168319, edge_index=[2, 791776], x=[168319, 384])]"
      ]
     },
     "execution_count": 11,
     "metadata": {},
     "output_type": "execute_result"
    }
   ],
   "source": [
    "pyg_graph_list"
   ]
  },
  {
   "cell_type": "code",
   "execution_count": 12,
   "id": "e8d177a6",
   "metadata": {},
   "outputs": [],
   "source": [
    "data = pyg_graph_list[0]"
   ]
  },
  {
   "cell_type": "code",
   "execution_count": 13,
   "id": "9651ddea",
   "metadata": {},
   "outputs": [],
   "source": [
    "node_label = np.load(\"paper_label.npy\")"
   ]
  },
  {
   "cell_type": "code",
   "execution_count": 14,
   "id": "5a2c5adf",
   "metadata": {},
   "outputs": [],
   "source": [
    "data.y = torch.from_numpy(node_label).to(torch.long)"
   ]
  },
  {
   "cell_type": "code",
   "execution_count": 15,
   "id": "1a36ca66",
   "metadata": {},
   "outputs": [
    {
     "data": {
      "text/plain": [
       "array([ 1, 17,  7, ...,  3, 13,  3])"
      ]
     },
     "execution_count": 15,
     "metadata": {},
     "output_type": "execute_result"
    }
   ],
   "source": [
    "node_label"
   ]
  },
  {
   "cell_type": "code",
   "execution_count": 18,
   "id": "5e02e17b",
   "metadata": {},
   "outputs": [
    {
     "data": {
      "text/plain": [
       "Data(num_nodes=168319, edge_index=[2, 791776], x=[168319, 384], y=[168319])"
      ]
     },
     "execution_count": 18,
     "metadata": {},
     "output_type": "execute_result"
    }
   ],
   "source": [
    "data.to(device)"
   ]
  },
  {
   "cell_type": "code",
   "execution_count": 19,
   "id": "1f41a0a8",
   "metadata": {},
   "outputs": [],
   "source": [
    "data = T.ToSparseTensor()(data)"
   ]
  },
  {
   "cell_type": "code",
   "execution_count": 20,
   "id": "a69a1d37",
   "metadata": {},
   "outputs": [],
   "source": [
    "data.adj_t = data.adj_t.to_symmetric()"
   ]
  },
  {
   "cell_type": "code",
   "execution_count": 36,
   "id": "876d96d1",
   "metadata": {},
   "outputs": [
    {
     "data": {
      "text/plain": [
       "Data(num_nodes=168319, x=[168319, 384], y=[168319], adj_t=[168319, 168319, nnz=395854])"
      ]
     },
     "execution_count": 36,
     "metadata": {},
     "output_type": "execute_result"
    }
   ],
   "source": [
    "data"
   ]
  },
  {
   "cell_type": "code",
   "execution_count": 21,
   "id": "245a9ddf",
   "metadata": {},
   "outputs": [],
   "source": [
    "class SAGE(torch.nn.Module):\n",
    "    def __init__(self, in_channels, hidden_channels, out_channels, num_layers,\n",
    "                 dropout):\n",
    "        super(SAGE, self).__init__()\n",
    "\n",
    "        self.convs = torch.nn.ModuleList()\n",
    "        self.convs.append(SAGEConv(in_channels, hidden_channels))\n",
    "        self.bns = torch.nn.ModuleList()\n",
    "        self.bns.append(torch.nn.BatchNorm1d(hidden_channels))\n",
    "        for _ in range(num_layers - 2):\n",
    "            self.convs.append(SAGEConv(hidden_channels, hidden_channels))\n",
    "            self.bns.append(torch.nn.BatchNorm1d(hidden_channels))\n",
    "        self.convs.append(SAGEConv(hidden_channels, out_channels))\n",
    "\n",
    "        self.dropout = dropout\n",
    "\n",
    "    def reset_parameters(self):\n",
    "        for conv in self.convs:\n",
    "            conv.reset_parameters()\n",
    "        for bn in self.bns:\n",
    "            bn.reset_parameters()\n",
    "\n",
    "    def forward(self, x, adj_t):\n",
    "        for i, conv in enumerate(self.convs[:-1]):\n",
    "            x = conv(x, adj_t)\n",
    "            x = self.bns[i](x)\n",
    "            x = F.relu(x)\n",
    "            x = F.dropout(x, p=self.dropout, training=self.training)\n",
    "        x = self.convs[-1](x, adj_t)\n",
    "        return x.log_softmax(dim=-1)"
   ]
  },
  {
   "cell_type": "code",
   "execution_count": 22,
   "id": "2603b644",
   "metadata": {},
   "outputs": [],
   "source": [
    "log_steps=5\n",
    "num_layers=3\n",
    "hidden_channels=256\n",
    "dropout=0.5\n",
    "lr=0.05\n",
    "epochs=600\n",
    "runs=1\n",
    "\n",
    "TRAIN = 6000\n",
    "VAL = 1232\n",
    "TEST = 1000\n",
    "train_idx = [i for i in range(6000)]\n",
    "val_idx = [i for i in range(6000, 7232)]\n",
    "test_idx = [i for i in range(7232, 8232)]"
   ]
  },
  {
   "cell_type": "code",
   "execution_count": 23,
   "id": "7f7ffaff",
   "metadata": {},
   "outputs": [],
   "source": [
    "model = SAGE(384, hidden_channels,\n",
    "                     19, num_layers,\n",
    "                     dropout).to(device)"
   ]
  },
  {
   "cell_type": "code",
   "execution_count": 24,
   "id": "14c8335e",
   "metadata": {},
   "outputs": [],
   "source": [
    "def train(model, data, optimizer):\n",
    "    model.train()\n",
    "\n",
    "    optimizer.zero_grad()\n",
    "    out = model(data.x, data.adj_t)[train_idx]\n",
    "    #print(out.shape)\n",
    "    #print(data.y[train_idx].shape)\n",
    "    loss = F.nll_loss(out, data.y[train_idx])\n",
    "    loss.backward()\n",
    "    optimizer.step()\n",
    "\n",
    "    return loss.item()\n",
    "\n",
    "def eval_acc(y_true, y_pred):\n",
    "    acc_list = []\n",
    "    for i in range(y_true.shape[0]):\n",
    "        if y_true[i] == y_pred[i]:\n",
    "            acc_list.append(1)\n",
    "        else:\n",
    "            acc_list.append(0)\n",
    "            \n",
    "\n",
    "    return {'acc': sum(acc_list)/len(acc_list)}\n",
    "\n",
    "@torch.no_grad()\n",
    "def test(model, data):\n",
    "    model.eval()\n",
    "\n",
    "    out = model(data.x, data.adj_t)\n",
    "    y_pred = out.argmax(dim=-1, keepdim=True)\n",
    "    \n",
    "    train_acc = eval_acc(data.y[train_idx],y_pred[train_idx])['acc']\n",
    "    val_acc = eval_acc(data.y[val_idx],y_pred[val_idx])['acc']\n",
    "    test_acc = eval_acc(data.y[test_idx],y_pred[test_idx])['acc']\n",
    "    #print(train_acc, val_acc, test_acc)\n",
    "    return train_acc, val_acc, test_acc"
   ]
  },
  {
   "cell_type": "code",
   "execution_count": 25,
   "id": "67cdbb72",
   "metadata": {},
   "outputs": [],
   "source": [
    "import matplotlib.pyplot as plt"
   ]
  },
  {
   "cell_type": "code",
   "execution_count": 26,
   "id": "44d91df3",
   "metadata": {},
   "outputs": [],
   "source": [
    "train_lst, val_lst, test_lst = [], [], []"
   ]
  },
  {
   "cell_type": "code",
   "execution_count": 27,
   "id": "2b086c34",
   "metadata": {},
   "outputs": [
    {
     "name": "stdout",
     "output_type": "stream",
     "text": [
      "Run: 01, Epoch: 00, Loss: 3.1664, Train: 41.97%, Valid: 42.78% Test: 41.60%\n",
      "Run: 01, Epoch: 05, Loss: 2.6100, Train: 41.80%, Valid: 42.53% Test: 40.90%\n",
      "Run: 01, Epoch: 10, Loss: 2.0531, Train: 41.95%, Valid: 40.75% Test: 40.50%\n",
      "Run: 01, Epoch: 15, Loss: 1.6310, Train: 51.43%, Valid: 51.70% Test: 49.90%\n",
      "Run: 01, Epoch: 20, Loss: 1.4878, Train: 53.97%, Valid: 52.52% Test: 51.90%\n",
      "Run: 01, Epoch: 25, Loss: 1.3467, Train: 57.45%, Valid: 56.41% Test: 57.30%\n",
      "Run: 01, Epoch: 30, Loss: 1.2895, Train: 60.90%, Valid: 58.93% Test: 60.60%\n",
      "Run: 01, Epoch: 35, Loss: 1.2297, Train: 61.83%, Valid: 59.01% Test: 59.60%\n",
      "Run: 01, Epoch: 40, Loss: 1.1918, Train: 63.47%, Valid: 59.90% Test: 64.50%\n",
      "Run: 01, Epoch: 45, Loss: 1.1451, Train: 64.23%, Valid: 61.20% Test: 64.30%\n",
      "Run: 01, Epoch: 50, Loss: 1.1167, Train: 65.02%, Valid: 61.53% Test: 63.50%\n",
      "Run: 01, Epoch: 55, Loss: 1.0804, Train: 65.90%, Valid: 62.58% Test: 66.20%\n",
      "Run: 01, Epoch: 60, Loss: 1.0669, Train: 66.33%, Valid: 63.56% Test: 66.10%\n",
      "Run: 01, Epoch: 65, Loss: 1.0387, Train: 67.30%, Valid: 64.69% Test: 67.10%\n",
      "Run: 01, Epoch: 70, Loss: 1.0099, Train: 67.68%, Valid: 64.61% Test: 66.80%\n",
      "Run: 01, Epoch: 75, Loss: 0.9908, Train: 68.47%, Valid: 64.61% Test: 67.30%\n",
      "Run: 01, Epoch: 80, Loss: 0.9575, Train: 69.25%, Valid: 65.18% Test: 67.40%\n",
      "Run: 01, Epoch: 85, Loss: 0.9449, Train: 70.25%, Valid: 65.02% Test: 68.20%\n",
      "Run: 01, Epoch: 90, Loss: 0.9116, Train: 71.00%, Valid: 65.75% Test: 68.50%\n",
      "Run: 01, Epoch: 95, Loss: 0.8831, Train: 71.97%, Valid: 65.34% Test: 68.60%\n",
      "Run: 01, Epoch: 100, Loss: 0.8656, Train: 72.85%, Valid: 65.50% Test: 68.90%\n",
      "Run: 01, Epoch: 105, Loss: 0.8348, Train: 74.15%, Valid: 66.15% Test: 68.70%\n",
      "Run: 01, Epoch: 110, Loss: 0.8028, Train: 75.40%, Valid: 66.07% Test: 68.50%\n",
      "Run: 01, Epoch: 115, Loss: 0.7727, Train: 76.53%, Valid: 65.83% Test: 68.80%\n",
      "Run: 01, Epoch: 120, Loss: 0.7401, Train: 77.92%, Valid: 65.58% Test: 69.00%\n",
      "Run: 01, Epoch: 125, Loss: 0.7195, Train: 79.17%, Valid: 65.75% Test: 69.20%\n",
      "Run: 01, Epoch: 130, Loss: 0.6814, Train: 80.85%, Valid: 65.83% Test: 69.90%\n",
      "Run: 01, Epoch: 135, Loss: 0.6486, Train: 82.60%, Valid: 65.67% Test: 69.00%\n",
      "Run: 01, Epoch: 140, Loss: 0.6259, Train: 83.62%, Valid: 64.69% Test: 69.30%\n",
      "Run: 01, Epoch: 145, Loss: 0.5935, Train: 85.20%, Valid: 65.26% Test: 69.30%\n",
      "Run: 01, Epoch: 150, Loss: 0.5499, Train: 87.13%, Valid: 66.56% Test: 69.10%\n",
      "Run: 01, Epoch: 155, Loss: 0.5290, Train: 88.58%, Valid: 64.53% Test: 68.50%\n",
      "Run: 01, Epoch: 160, Loss: 0.4950, Train: 89.63%, Valid: 65.18% Test: 68.30%\n",
      "Run: 01, Epoch: 165, Loss: 0.4653, Train: 90.82%, Valid: 65.10% Test: 68.40%\n",
      "Run: 01, Epoch: 170, Loss: 0.4255, Train: 92.00%, Valid: 66.07% Test: 68.20%\n",
      "Run: 01, Epoch: 175, Loss: 0.3920, Train: 92.83%, Valid: 65.26% Test: 67.60%\n",
      "Run: 01, Epoch: 180, Loss: 0.3752, Train: 93.80%, Valid: 65.02% Test: 67.90%\n",
      "Run: 01, Epoch: 185, Loss: 0.3437, Train: 94.93%, Valid: 65.18% Test: 67.10%\n",
      "Run: 01, Epoch: 190, Loss: 0.3134, Train: 95.53%, Valid: 65.50% Test: 67.60%\n",
      "Run: 01, Epoch: 195, Loss: 0.2914, Train: 96.30%, Valid: 65.10% Test: 67.20%\n",
      "Run: 01, Epoch: 200, Loss: 0.2872, Train: 96.67%, Valid: 65.10% Test: 66.80%\n",
      "Run: 01, Epoch: 205, Loss: 0.2556, Train: 97.73%, Valid: 64.77% Test: 66.50%\n",
      "Run: 01, Epoch: 210, Loss: 0.2457, Train: 97.90%, Valid: 63.47% Test: 67.50%\n",
      "Run: 01, Epoch: 215, Loss: 0.2284, Train: 98.52%, Valid: 63.23% Test: 65.60%\n",
      "Run: 01, Epoch: 220, Loss: 0.2169, Train: 98.72%, Valid: 63.80% Test: 66.30%\n",
      "Run: 01, Epoch: 225, Loss: 0.2057, Train: 98.92%, Valid: 63.96% Test: 67.00%\n",
      "Run: 01, Epoch: 230, Loss: 0.1864, Train: 99.03%, Valid: 63.80% Test: 66.10%\n",
      "Run: 01, Epoch: 235, Loss: 0.1744, Train: 99.13%, Valid: 63.31% Test: 66.00%\n",
      "Run: 01, Epoch: 240, Loss: 0.1642, Train: 99.25%, Valid: 63.31% Test: 66.60%\n",
      "Run: 01, Epoch: 245, Loss: 0.1542, Train: 99.50%, Valid: 62.50% Test: 66.70%\n",
      "Run: 01, Epoch: 250, Loss: 0.1568, Train: 99.67%, Valid: 63.88% Test: 67.40%\n",
      "Run: 01, Epoch: 255, Loss: 0.1485, Train: 99.63%, Valid: 63.31% Test: 67.70%\n",
      "Run: 01, Epoch: 260, Loss: 0.1185, Train: 99.77%, Valid: 61.69% Test: 66.90%\n",
      "Run: 01, Epoch: 265, Loss: 0.1333, Train: 99.80%, Valid: 62.74% Test: 66.70%\n",
      "Run: 01, Epoch: 270, Loss: 0.1232, Train: 99.80%, Valid: 62.99% Test: 66.90%\n",
      "Run: 01, Epoch: 275, Loss: 0.1179, Train: 99.82%, Valid: 61.85% Test: 67.10%\n",
      "Run: 01, Epoch: 280, Loss: 0.1094, Train: 99.85%, Valid: 63.39% Test: 68.10%\n",
      "Run: 01, Epoch: 285, Loss: 0.0991, Train: 99.88%, Valid: 61.85% Test: 67.00%\n",
      "Run: 01, Epoch: 290, Loss: 0.1007, Train: 99.92%, Valid: 62.26% Test: 67.20%\n",
      "Run: 01, Epoch: 295, Loss: 0.0947, Train: 99.97%, Valid: 62.66% Test: 67.00%\n",
      "Run: 01, Epoch: 300, Loss: 0.0936, Train: 99.95%, Valid: 62.58% Test: 65.70%\n",
      "Run: 01, Epoch: 305, Loss: 0.0895, Train: 99.95%, Valid: 62.50% Test: 65.70%\n",
      "Run: 01, Epoch: 310, Loss: 0.0840, Train: 99.98%, Valid: 62.91% Test: 66.40%\n",
      "Run: 01, Epoch: 315, Loss: 0.0776, Train: 99.95%, Valid: 62.74% Test: 66.10%\n",
      "Run: 01, Epoch: 320, Loss: 0.0834, Train: 99.92%, Valid: 62.66% Test: 66.70%\n",
      "Run: 01, Epoch: 325, Loss: 0.0813, Train: 99.95%, Valid: 62.82% Test: 65.30%\n",
      "Run: 01, Epoch: 330, Loss: 0.0716, Train: 99.98%, Valid: 62.74% Test: 65.70%\n",
      "Run: 01, Epoch: 335, Loss: 0.0720, Train: 99.98%, Valid: 62.74% Test: 65.20%\n",
      "Run: 01, Epoch: 340, Loss: 0.0771, Train: 99.98%, Valid: 63.07% Test: 66.30%\n",
      "Run: 01, Epoch: 345, Loss: 0.0728, Train: 100.00%, Valid: 63.47% Test: 65.30%\n",
      "Run: 01, Epoch: 350, Loss: 0.0687, Train: 100.00%, Valid: 63.64% Test: 65.90%\n",
      "Run: 01, Epoch: 355, Loss: 0.0634, Train: 100.00%, Valid: 62.66% Test: 65.90%\n",
      "Run: 01, Epoch: 360, Loss: 0.0553, Train: 100.00%, Valid: 62.99% Test: 67.20%\n",
      "Run: 01, Epoch: 365, Loss: 0.0622, Train: 100.00%, Valid: 62.26% Test: 65.70%\n",
      "Run: 01, Epoch: 370, Loss: 0.0605, Train: 100.00%, Valid: 62.34% Test: 66.60%\n",
      "Run: 01, Epoch: 375, Loss: 0.0545, Train: 100.00%, Valid: 62.50% Test: 65.90%\n",
      "Run: 01, Epoch: 380, Loss: 0.0547, Train: 100.00%, Valid: 62.91% Test: 65.50%\n",
      "Run: 01, Epoch: 385, Loss: 0.0535, Train: 100.00%, Valid: 63.31% Test: 66.70%\n",
      "Run: 01, Epoch: 390, Loss: 0.0534, Train: 100.00%, Valid: 62.26% Test: 67.30%\n",
      "Run: 01, Epoch: 395, Loss: 0.0508, Train: 100.00%, Valid: 62.91% Test: 66.70%\n",
      "Run: 01, Epoch: 400, Loss: 0.0508, Train: 100.00%, Valid: 62.99% Test: 66.90%\n",
      "Run: 01, Epoch: 405, Loss: 0.0490, Train: 100.00%, Valid: 63.64% Test: 66.40%\n",
      "Run: 01, Epoch: 410, Loss: 0.0494, Train: 100.00%, Valid: 62.99% Test: 65.80%\n",
      "Run: 01, Epoch: 415, Loss: 0.0469, Train: 99.98%, Valid: 62.66% Test: 65.90%\n",
      "Run: 01, Epoch: 420, Loss: 0.0467, Train: 99.98%, Valid: 62.42% Test: 67.10%\n",
      "Run: 01, Epoch: 425, Loss: 0.0473, Train: 100.00%, Valid: 62.34% Test: 66.70%\n",
      "Run: 01, Epoch: 430, Loss: 0.0378, Train: 99.98%, Valid: 62.74% Test: 66.40%\n",
      "Run: 01, Epoch: 435, Loss: 0.0467, Train: 100.00%, Valid: 62.74% Test: 66.50%\n",
      "Run: 01, Epoch: 440, Loss: 0.0441, Train: 100.00%, Valid: 62.58% Test: 66.90%\n",
      "Run: 01, Epoch: 445, Loss: 0.0416, Train: 100.00%, Valid: 62.91% Test: 67.10%\n",
      "Run: 01, Epoch: 450, Loss: 0.0426, Train: 100.00%, Valid: 62.99% Test: 66.60%\n",
      "Run: 01, Epoch: 455, Loss: 0.0428, Train: 100.00%, Valid: 63.31% Test: 67.10%\n",
      "Run: 01, Epoch: 460, Loss: 0.0334, Train: 100.00%, Valid: 62.74% Test: 67.20%\n",
      "Run: 01, Epoch: 465, Loss: 0.0416, Train: 100.00%, Valid: 62.74% Test: 66.30%\n",
      "Run: 01, Epoch: 470, Loss: 0.0418, Train: 100.00%, Valid: 63.56% Test: 66.60%\n",
      "Run: 01, Epoch: 475, Loss: 0.0384, Train: 100.00%, Valid: 62.42% Test: 66.70%\n",
      "Run: 01, Epoch: 480, Loss: 0.0408, Train: 100.00%, Valid: 62.18% Test: 65.50%\n",
      "Run: 01, Epoch: 485, Loss: 0.0376, Train: 100.00%, Valid: 62.99% Test: 65.60%\n",
      "Run: 01, Epoch: 490, Loss: 0.0398, Train: 100.00%, Valid: 63.39% Test: 66.10%\n",
      "Run: 01, Epoch: 495, Loss: 0.0369, Train: 100.00%, Valid: 63.64% Test: 65.70%\n",
      "Run: 01, Epoch: 500, Loss: 0.0360, Train: 100.00%, Valid: 63.07% Test: 66.10%\n",
      "Run: 01, Epoch: 505, Loss: 0.0365, Train: 100.00%, Valid: 62.58% Test: 65.30%\n",
      "Run: 01, Epoch: 510, Loss: 0.0389, Train: 100.00%, Valid: 63.80% Test: 67.00%\n",
      "Run: 01, Epoch: 515, Loss: 0.0305, Train: 100.00%, Valid: 62.74% Test: 65.40%\n",
      "Run: 01, Epoch: 520, Loss: 0.0324, Train: 100.00%, Valid: 63.15% Test: 65.50%\n",
      "Run: 01, Epoch: 525, Loss: 0.0359, Train: 100.00%, Valid: 62.99% Test: 64.80%\n",
      "Run: 01, Epoch: 530, Loss: 0.0401, Train: 100.00%, Valid: 63.96% Test: 64.40%\n"
     ]
    },
    {
     "name": "stdout",
     "output_type": "stream",
     "text": [
      "Run: 01, Epoch: 535, Loss: 0.0307, Train: 100.00%, Valid: 62.42% Test: 65.60%\n",
      "Run: 01, Epoch: 540, Loss: 0.0300, Train: 100.00%, Valid: 62.58% Test: 65.20%\n",
      "Run: 01, Epoch: 545, Loss: 0.0311, Train: 100.00%, Valid: 62.66% Test: 65.60%\n",
      "Run: 01, Epoch: 550, Loss: 0.0271, Train: 100.00%, Valid: 62.74% Test: 66.10%\n",
      "Run: 01, Epoch: 555, Loss: 0.0225, Train: 99.98%, Valid: 62.66% Test: 65.80%\n",
      "Run: 01, Epoch: 560, Loss: 0.0272, Train: 100.00%, Valid: 62.26% Test: 65.40%\n",
      "Run: 01, Epoch: 565, Loss: 0.0305, Train: 100.00%, Valid: 63.39% Test: 67.20%\n",
      "Run: 01, Epoch: 570, Loss: 0.0275, Train: 100.00%, Valid: 62.99% Test: 65.90%\n",
      "Run: 01, Epoch: 575, Loss: 0.0310, Train: 100.00%, Valid: 62.50% Test: 66.70%\n",
      "Run: 01, Epoch: 580, Loss: 0.0283, Train: 100.00%, Valid: 63.15% Test: 66.00%\n",
      "Run: 01, Epoch: 585, Loss: 0.0276, Train: 100.00%, Valid: 63.23% Test: 66.20%\n",
      "Run: 01, Epoch: 590, Loss: 0.0290, Train: 100.00%, Valid: 63.56% Test: 66.50%\n",
      "Run: 01, Epoch: 595, Loss: 0.0285, Train: 100.00%, Valid: 63.23% Test: 67.30%\n"
     ]
    }
   ],
   "source": [
    "for run in range(runs):\n",
    "    model.reset_parameters()\n",
    "    optimizer = torch.optim.Adam(model.parameters(), lr=lr)\n",
    "    for epoch in range(epochs):\n",
    "        loss = train(model, data, optimizer)\n",
    "        result = test(model, data)\n",
    "        #print(\"Loss: \", loss)\n",
    "        #print(\"Result: \", result)\n",
    "\n",
    "        if epoch % log_steps == 0:\n",
    "            train_acc, valid_acc, test_acc = result\n",
    "            train_lst.append(train_acc)\n",
    "            val_lst.append(valid_acc)\n",
    "            test_lst.append(test_acc)\n",
    "            print(f'Run: {run + 1:02d}, '\n",
    "                  f'Epoch: {epoch:02d}, '\n",
    "                  f'Loss: {loss:.4f}, '\n",
    "                  f'Train: {100 * train_acc:.2f}%, '\n",
    "                  f'Valid: {100 * valid_acc:.2f}% '\n",
    "                  f'Test: {100 * test_acc:.2f}%')"
   ]
  },
  {
   "cell_type": "code",
   "execution_count": 33,
   "id": "ae826ec6",
   "metadata": {},
   "outputs": [],
   "source": [
    "graphSAGE = pd.DataFrame({'train_acc' : train_lst, 'val_acc' : val_lst, 'test_acc' : test_lst})"
   ]
  },
  {
   "cell_type": "code",
   "execution_count": 34,
   "id": "821c53a4",
   "metadata": {},
   "outputs": [],
   "source": [
    "#graphSAGE['index'] = [i for i in range(len(train_lst))]"
   ]
  },
  {
   "cell_type": "code",
   "execution_count": 35,
   "id": "4ae936cb",
   "metadata": {},
   "outputs": [
    {
     "data": {
      "text/plain": [
       "Text(0, 0.5, 'Accuracy')"
      ]
     },
     "execution_count": 35,
     "metadata": {},
     "output_type": "execute_result"
    },
    {
     "data": {
      "image/png": "[encoded data removed]",
      "text/plain": [
       "<Figure size 720x360 with 1 Axes>"
      ]
     },
     "metadata": {},
     "output_type": "display_data"
    }
   ],
   "source": [
    "sns.set(style=\"darkgrid\", rc = {'figure.figsize':(10,5)})\n",
    "ax = sns.lineplot(data=graphSAGE)\n",
    "ax.set_xlabel(\"Epochs\")\n",
    "ax.set_ylabel(\"Accuracy\")"
   ]
  },
  {
   "cell_type": "code",
   "execution_count": null,
   "id": "17a5a079",
   "metadata": {},
   "outputs": [],
   "source": []
  }
 ],
 "metadata": {
  "kernelspec": {
   "display_name": "Python 3",
   "language": "python",
   "name": "python3"
  },
  "language_info": {
   "codemirror_mode": {
    "name": "ipython",
    "version": 3
   },
   "file_extension": ".py",
   "mimetype": "text/x-python",
   "name": "python",
   "nbconvert_exporter": "python",
   "pygments_lexer": "ipython3",
   "version": "3.6.8"
  }
 },
 "nbformat": 4,
 "nbformat_minor": 5
}
